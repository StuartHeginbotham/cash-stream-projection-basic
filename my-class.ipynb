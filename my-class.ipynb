{
 "cells": [
  {
   "cell_type": "code",
   "execution_count": null,
   "metadata": {},
   "outputs": [],
   "source": [
    "from datetime import date\n",
    "import datetime\n",
    "from dateutil.parser import parse\n",
    "from dateutil.relativedelta import relativedelta\n",
    "import pandas as pd"
   ]
  },
  {
   "cell_type": "code",
   "execution_count": 2,
   "metadata": {},
   "outputs": [],
   "source": [
    "# project cash flow inputs and outputs for a given time period based on a cash flow stream definition\n",
    "\n",
    "class StreamProjection:\n",
    "    def __init__(self,\n",
    "                 ps_start_date, # date string\n",
    "                 ps_end_date,   # date string\n",
    "                 stream):\n",
    "        \n",
    "        # convert time period start and end dates strings into date types\n",
    "        p_start_date=parse(ps_start_date).date()\n",
    "        p_end_date=parse(ps_end_date).date()\n",
    "    \n",
    "        # define the time step to be used to genrate dates for ouccrences of cash flow event baed on stream definition\n",
    "        delta = relativedelta(**stream['stream_step']) # use dictionary as mapping argument\n",
    "\n",
    "        # intialise cash flow event date iterator\n",
    "        i_date=parse(stream['stream_start_date']).date()\n",
    "                 \n",
    "        # intialise list of cash flow event dates to be generated   \n",
    "        p_str_dates=[]\n",
    "\n",
    "        # generate cash flow event dates until end of time period\n",
    "        while i_date <= p_end_date:\n",
    "            \n",
    "            # select only cash flow event whos dates are within the  time period and within the stream defintion\n",
    "            if (i_date >= p_start_date) & (i_date<= parse(stream['stream_end_date']).date()):\n",
    "                \n",
    "                # append generated date to list for cash flow event dates\n",
    "                p_str_dates.append({'occurence_date':i_date,\n",
    "                                'occurence_value':stream['occurence_value'],\n",
    "                                'stream_name':stream['stream_name']})\n",
    "                \n",
    "            # increment date iteratior bby previously defined step amount\n",
    "            i_date += delta\n",
    "        \n",
    "        # create class attributes with list of cash flow event dates gnerated\n",
    "        self.stream_dates=p_str_dates\n",
    "        \n",
    "        return"
   ]
  },
  {
   "cell_type": "code",
   "execution_count": null,
   "metadata": {},
   "outputs": [],
   "source": [
    "# for list of stream definitions and defined time period create dataframe aggregate by year with cash flow stream as columns\n",
    "class Projection:\n",
    "    def __init__(self,\n",
    "                 ps_start_date,\n",
    "                 ps_end_date,\n",
    "                 streams,\n",
    "                 grouper):\n",
    "        \n",
    "        # created list of projected streams\n",
    "        stream_projection=[]\n",
    "\n",
    "        # for each stream create list of cash flow events and append it to a list for all events\n",
    "        for i in streams:\n",
    "            stream_projection=stream_projection+StreamProjection(ps_start_date,ps_end_date,i).stream_dates\n",
    "\n",
    "        # convert list of cash flow event into a dataframe of cash flow events for each stream \n",
    "        df=pd.DataFrame(stream_projection)\n",
    "        \n",
    "        # convert dataframe of cash flow event into dataframe with date as index and the columns for each stream containing their value\n",
    "        df2=df.pivot(index=\"occurence_date\", columns=\"stream_name\", values=\"occurence_value\")\n",
    "        \n",
    "        # convert date index to datetime with period of month\n",
    "        df2.index = pd.to_datetime(df2.index).to_period('M')\n",
    "        \n",
    "        # aggregate dataframe to year level\n",
    "        self.df=df2.groupby(pd.Grouper(freq=grouper)).sum()\n",
    "        \n",
    "        return"
   ]
  },
  {
   "cell_type": "code",
   "execution_count": null,
   "metadata": {},
   "outputs": [],
   "source": []
  }
 ],
 "metadata": {
  "kernelspec": {
   "display_name": "Python 3",
   "language": "python",
   "name": "python3"
  },
  "language_info": {
   "codemirror_mode": {
    "name": "ipython",
    "version": 3
   },
   "file_extension": ".py",
   "mimetype": "text/x-python",
   "name": "python",
   "nbconvert_exporter": "python",
   "pygments_lexer": "ipython3",
   "version": "3.7.6"
  }
 },
 "nbformat": 4,
 "nbformat_minor": 4
}
