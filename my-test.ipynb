{
 "cells": [
  {
   "cell_type": "code",
   "execution_count": 190,
   "metadata": {},
   "outputs": [],
   "source": [
    "%run my-class.ipynb"
   ]
  },
  {
   "cell_type": "code",
   "execution_count": 191,
   "metadata": {},
   "outputs": [
    {
     "data": {
      "text/plain": [
       "[{'occurence_date': datetime.date(2020, 11, 10),\n",
       "  'occurence_value': -200,\n",
       "  'stream_name': 'insurance'},\n",
       " {'occurence_date': datetime.date(2020, 12, 10),\n",
       "  'occurence_value': -200,\n",
       "  'stream_name': 'insurance'},\n",
       " {'occurence_date': datetime.date(2021, 1, 10),\n",
       "  'occurence_value': -200,\n",
       "  'stream_name': 'insurance'}]"
      ]
     },
     "execution_count": 191,
     "metadata": {},
     "output_type": "execute_result"
    }
   ],
   "source": [
    "stream={'stream_name':'insurance',\n",
    "        'stream_start_date':'20201110',\n",
    "        'stream_end_date':'20231231',\n",
    "        'occurence_value':-200,\n",
    "        'stream_step':{'months':+1}}\n",
    "\n",
    "StreamProjection('20201101', # period start date string\n",
    "           '20210201',   # period end date stringstream\n",
    "           stream).stream_dates"
   ]
  },
  {
   "cell_type": "code",
   "execution_count": 289,
   "metadata": {},
   "outputs": [
    {
     "name": "stderr",
     "output_type": "stream",
     "text": [
      "/home/stuart/anaconda3/lib/python3.7/site-packages/ipykernel_launcher.py:33: MatplotlibDeprecationWarning: Adding an axes using the same arguments as a previous axes currently reuses the earlier instance.  In a future version, a new instance will always be created and returned.  Meanwhile, this warning can be suppressed, and the future behavior ensured, by passing a unique label to each axes instance.\n"
     ]
    },
    {
     "data": {
      "text/plain": [
       "<matplotlib.table.Table at 0x7fdb87222550>"
      ]
     },
     "execution_count": 289,
     "metadata": {},
     "output_type": "execute_result"
    },
    {
     "data": {
      "image/png": "[encoded data removed]",
      "text/plain": [
       "<Figure size 432x288 with 1 Axes>"
      ]
     },
     "metadata": {
      "needs_background": "light"
     },
     "output_type": "display_data"
    }
   ],
   "source": [
    "streams=[\n",
    "    {'stream_name':'insurance',\n",
    "          'stream_start_date':'20200101',\n",
    "          'stream_end_date':'20241231',\n",
    "          'occurence_value':-300,\n",
    "          'stream_step':{'months':+1}},\n",
    "        {'stream_name':'salary1',\n",
    "        'stream_start_date':'20200101',\n",
    "         'stream_end_date':'20221231',\n",
    "         'occurence_value':2000,\n",
    "         'stream_step':{'months':+1}},\n",
    "        {'stream_name':'salary2',\n",
    "         'stream_start_date':'20230101',\n",
    "         'stream_end_date':'20241231',\n",
    "         'occurence_value':1000,\n",
    "         'stream_step':{'months':+1}},\n",
    "        {'stream_name':'food',\n",
    "         'stream_start_date':'20200101',\n",
    "         'stream_end_date':'20241231',\n",
    "         'occurence_value':-200,\n",
    "         'stream_step':{'months':+1}}\n",
    "        ]\n",
    "\n",
    "s=Projection('20200101', # period start date string\n",
    "           '20241231',   # period end date strings\n",
    "           streams,'Y').df.sum(axis=1)\n",
    "\n",
    "f=Projection('20200101', # period start date string\n",
    "           '20241231',   # period end date stringstream\n",
    "           streams,'Y').df\n",
    "\n",
    "s.plot(kind='bar')\n",
    "plt.axes().get_xaxis().get_label().set_visible(False)\n",
    "plt.tick_params(labelbottom=False)\n",
    "plt.table(cellText=cell_text,colLabels=s.index)\n"
   ]
  },
  {
   "cell_type": "code",
   "execution_count": 221,
   "metadata": {},
   "outputs": [
    {
     "data": {
      "text/plain": [
       "<matplotlib.axes._subplots.AxesSubplot at 0x7fdb87faaf10>"
      ]
     },
     "execution_count": 221,
     "metadata": {},
     "output_type": "execute_result"
    },
    {
     "data": {
      "image/png": "[encoded data removed]",
      "text/plain": [
       "<Figure size 432x288 with 1 Axes>"
      ]
     },
     "metadata": {
      "needs_background": "light"
     },
     "output_type": "display_data"
    }
   ],
   "source": [
    "f.plot(kind='bar')"
   ]
  },
  {
   "cell_type": "code",
   "execution_count": 216,
   "metadata": {},
   "outputs": [
    {
     "data": {
      "text/plain": [
       "5"
      ]
     },
     "execution_count": 216,
     "metadata": {},
     "output_type": "execute_result"
    }
   ],
   "source": [
    "len(s.values)"
   ]
  },
  {
   "cell_type": "code",
   "execution_count": null,
   "metadata": {},
   "outputs": [],
   "source": [
    "plt.table(cellText=dcsummary.values,colWidths = [0.25]*len(dc.columns),\n",
    "          rowLabels=dcsummary.index,\n",
    "          colLabels=dcsummary.columns,\n",
    "          cellLoc = 'center', rowLoc = 'center',\n",
    "          loc='top')"
   ]
  },
  {
   "cell_type": "code",
   "execution_count": 258,
   "metadata": {},
   "outputs": [
    {
     "data": {
      "text/plain": [
       "[array([18000., 18000., 18000.,  6000.,  6000.])]"
      ]
     },
     "execution_count": 258,
     "metadata": {},
     "output_type": "execute_result"
    }
   ],
   "source": [
    "cell_text=[s.values]\n",
    "cell_text"
   ]
  },
  {
   "cell_type": "code",
   "execution_count": 259,
   "metadata": {},
   "outputs": [
    {
     "data": {
      "text/plain": [
       "<matplotlib.table.Table at 0x7fdb87a35290>"
      ]
     },
     "execution_count": 259,
     "metadata": {},
     "output_type": "execute_result"
    },
    {
     "data": {
      "image/png": "[encoded data removed]",
      "text/plain": [
       "<Figure size 432x288 with 1 Axes>"
      ]
     },
     "metadata": {
      "needs_background": "light"
     },
     "output_type": "display_data"
    }
   ],
   "source": [
    "import matplotlib.pyplot as plt\n",
    "plt.table(cellText=cell_text,colLabels=s.index,colWidths=[0.25,0.25,0.25,0.25,0.25])\n",
    "          \n",
    "        "
   ]
  },
  {
   "cell_type": "code",
   "execution_count": null,
   "metadata": {},
   "outputs": [],
   "source": []
  }
 ],
 "metadata": {
  "kernelspec": {
   "display_name": "Python 3",
   "language": "python",
   "name": "python3"
  },
  "language_info": {
   "codemirror_mode": {
    "name": "ipython",
    "version": 3
   },
   "file_extension": ".py",
   "mimetype": "text/x-python",
   "name": "python",
   "nbconvert_exporter": "python",
   "pygments_lexer": "ipython3",
   "version": "3.7.6"
  }
 },
 "nbformat": 4,
 "nbformat_minor": 4
}
